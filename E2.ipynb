{
 "cells": [
  {
   "cell_type": "code",
   "execution_count": 6,
   "id": "3cac2fa6",
   "metadata": {},
   "outputs": [
    {
     "name": "stdout",
     "output_type": "stream",
     "text": [
      "Enter first number : 33\n",
      "Enter second number : 3\n",
      "33 is a multiple of 3\n"
     ]
    }
   ],
   "source": [
    "# Q1\n",
    "# num=int(input(\"Enter a number : \"))\n",
    "# if(num%2==0):\n",
    "#     if(num%4==0):\n",
    "#         print(\"Yay!! This is an even number and it is also divisible by 4\")\n",
    "#     else:\n",
    "#         print(\"This is an even number.\")\n",
    "# else:\n",
    "#     print(\"This is an odd number.\")\n",
    "\n",
    "# Q2\n",
    "num=int(input(\"Enter first number : \"))\n",
    "check=int(input(\"Enter second number : \"))\n",
    "\n",
    "if(num%check==0):\n",
    "    print(f\"{num} is a multiple of {check}\")\n",
    "else:\n",
    "    print(f\"{num} is not a multiple of {check}\")"
   ]
  }
 ],
 "metadata": {
  "kernelspec": {
   "display_name": "Python 3 (ipykernel)",
   "language": "python",
   "name": "python3"
  },
  "language_info": {
   "codemirror_mode": {
    "name": "ipython",
    "version": 3
   },
   "file_extension": ".py",
   "mimetype": "text/x-python",
   "name": "python",
   "nbconvert_exporter": "python",
   "pygments_lexer": "ipython3",
   "version": "3.10.12"
  }
 },
 "nbformat": 4,
 "nbformat_minor": 5
}
