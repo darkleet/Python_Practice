{
 "cells": [
  {
   "cell_type": "code",
   "execution_count": 16,
   "id": "f5a1a393",
   "metadata": {},
   "outputs": [
    {
     "name": "stdout",
     "output_type": "stream",
     "text": [
      "Enter your name : Sd\n",
      "Enter your age : 22\n",
      "Sd  will turn 100 years old in  2101  years\n",
      "Enter how many copies of the above message do you want : 44\n",
      "Sd  will turn 100 years old in  2101  years\n",
      "Sd  will turn 100 years old in  2101  years\n",
      "Sd  will turn 100 years old in  2101  years\n",
      "Sd  will turn 100 years old in  2101  years\n",
      "Sd  will turn 100 years old in  2101  years\n",
      "Sd  will turn 100 years old in  2101  years\n",
      "Sd  will turn 100 years old in  2101  years\n",
      "Sd  will turn 100 years old in  2101  years\n",
      "Sd  will turn 100 years old in  2101  years\n",
      "Sd  will turn 100 years old in  2101  years\n",
      "Sd  will turn 100 years old in  2101  years\n",
      "Sd  will turn 100 years old in  2101  years\n",
      "Sd  will turn 100 years old in  2101  years\n",
      "Sd  will turn 100 years old in  2101  years\n",
      "Sd  will turn 100 years old in  2101  years\n",
      "Sd  will turn 100 years old in  2101  years\n",
      "Sd  will turn 100 years old in  2101  years\n",
      "Sd  will turn 100 years old in  2101  years\n",
      "Sd  will turn 100 years old in  2101  years\n",
      "Sd  will turn 100 years old in  2101  years\n",
      "Sd  will turn 100 years old in  2101  years\n",
      "Sd  will turn 100 years old in  2101  years\n",
      "Sd  will turn 100 years old in  2101  years\n",
      "Sd  will turn 100 years old in  2101  years\n",
      "Sd  will turn 100 years old in  2101  years\n",
      "Sd  will turn 100 years old in  2101  years\n",
      "Sd  will turn 100 years old in  2101  years\n",
      "Sd  will turn 100 years old in  2101  years\n",
      "Sd  will turn 100 years old in  2101  years\n",
      "Sd  will turn 100 years old in  2101  years\n",
      "Sd  will turn 100 years old in  2101  years\n",
      "Sd  will turn 100 years old in  2101  years\n",
      "Sd  will turn 100 years old in  2101  years\n",
      "Sd  will turn 100 years old in  2101  years\n",
      "Sd  will turn 100 years old in  2101  years\n",
      "Sd  will turn 100 years old in  2101  years\n",
      "Sd  will turn 100 years old in  2101  years\n",
      "Sd  will turn 100 years old in  2101  years\n",
      "Sd  will turn 100 years old in  2101  years\n",
      "Sd  will turn 100 years old in  2101  years\n",
      "Sd  will turn 100 years old in  2101  years\n",
      "Sd  will turn 100 years old in  2101  years\n",
      "Sd  will turn 100 years old in  2101  years\n",
      "Sd  will turn 100 years old in  2101  years\n"
     ]
    }
   ],
   "source": [
    "import time\n",
    "import datetime\n",
    "name=input(\"Enter your name : \")\n",
    "age=int(input(\"Enter your age : \"))\n",
    "year=datetime.datetime.today().year\n",
    "print(name,\" will turn 100 years old in \", year+100-age ,\" years\")\n",
    "time.sleep(2)\n",
    "copy=int(input(\"Enter how many copies of the above message do you want : \"))\n",
    "i=0\n",
    "while(i<copy):\n",
    "    print(name,\" will turn 100 years old in \", year+100-age ,\" years\")\n",
    "    time.sleep(0.5)\n",
    "    i=i+1"
   ]
  },
  {
   "cell_type": "code",
   "execution_count": null,
   "id": "193783d7",
   "metadata": {},
   "outputs": [],
   "source": []
  }
 ],
 "metadata": {
  "kernelspec": {
   "display_name": "Python 3 (ipykernel)",
   "language": "python",
   "name": "python3"
  },
  "language_info": {
   "codemirror_mode": {
    "name": "ipython",
    "version": 3
   },
   "file_extension": ".py",
   "mimetype": "text/x-python",
   "name": "python",
   "nbconvert_exporter": "python",
   "pygments_lexer": "ipython3",
   "version": "3.10.12"
  }
 },
 "nbformat": 4,
 "nbformat_minor": 5
}
