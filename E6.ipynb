{
 "cells": [
  {
   "cell_type": "code",
   "execution_count": null,
   "id": "810b5f5b",
   "metadata": {},
   "outputs": [],
   "source": [
    "# String Lists\n",
    "ui=input(\"Enter a string to check for palindrome : \")\n",
    "for i in ui:\n",
    "    if(ui[::-1]==ui):\n",
    "        print(\"The entered string is palindrome.\")\n",
    "        break\n",
    "    else:\n",
    "        print(\"The entered string is not a palindrome.\")\n",
    "        break"
   ]
  }
 ],
 "metadata": {
  "kernelspec": {
   "display_name": "Python 3 (ipykernel)",
   "language": "python",
   "name": "python3"
  },
  "language_info": {
   "codemirror_mode": {
    "name": "ipython",
    "version": 3
   },
   "file_extension": ".py",
   "mimetype": "text/x-python",
   "name": "python",
   "nbconvert_exporter": "python",
   "pygments_lexer": "ipython3",
   "version": "3.10.12"
  }
 },
 "nbformat": 4,
 "nbformat_minor": 5
}
