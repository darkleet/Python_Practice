{
 "cells": [
  {
   "cell_type": "code",
   "execution_count": 9,
   "id": "9c7ea5a9-1865-41a5-8106-29a10b1511da",
   "metadata": {},
   "outputs": [
    {
     "name": "stdout",
     "output_type": "stream",
     "text": [
      "You are the best\n",
      "You are the best\n",
      "You are the best\n",
      "You are the best\n",
      "You are the best\n",
      "You are the best\n"
     ]
    }
   ],
   "source": [
    "# Initialize\n",
    "i=1\n",
    "# Loop Condition\n",
    "while i<=6:\n",
    "#   Inside Body\n",
    "    print(\"You are the best\")\n",
    "#   Updating Value  \n",
    "    i+=1"
   ]
  },
  {
   "cell_type": "code",
   "execution_count": 2,
   "id": "0363943e-4295-434d-80d8-803fdc5c11cf",
   "metadata": {},
   "outputs": [
    {
     "name": "stdout",
     "output_type": "stream",
     "text": [
      "1 2 3 4 5 6 7 8 9 10 "
     ]
    }
   ],
   "source": [
    "# Printing series of numbers\n",
    "# num=int(input(\"Enter a number\"))\n",
    "# i=1\n",
    "# while(i<=num):\n",
    "#         print(i,\" \",num)\n",
    "#         i+=1\n",
    "\n",
    "# If we want to print it in a single line\n",
    "i=1\n",
    "while(i<=10):\n",
    "    print(i,end=\" \")\n",
    "    i+=1\n"
   ]
  },
  {
   "cell_type": "code",
   "execution_count": 6,
   "id": "ac1989e9-1573-448f-be53-be1518ca0437",
   "metadata": {},
   "outputs": [
    {
     "name": "stdout",
     "output_type": "stream",
     "text": [
      "2 4 6 8 10 "
     ]
    }
   ],
   "source": [
    "#Print even nos. from 1 to 10.;\n",
    "\n",
    "i=1\n",
    "while(i<=10):\n",
    "    if(i%2==0):\n",
    "        print(i,end=\" \")\n",
    "    i+=1"
   ]
  },
  {
   "cell_type": "code",
   "execution_count": 13,
   "id": "80be26cf-090b-4c21-a4d5-8ffb3c4d5b5e",
   "metadata": {},
   "outputs": [
    {
     "name": "stdin",
     "output_type": "stream",
     "text": [
      "Enter the no. till which you want sum :  10\n"
     ]
    },
    {
     "name": "stdout",
     "output_type": "stream",
     "text": [
      "The sum of first  10  numbers is  55\n"
     ]
    }
   ],
   "source": [
    "# Print sum of all nos. from 1 to n.\n",
    "n=int(input(\"Enter the no. till which you want sum : \"))\n",
    "i=1\n",
    "sum=0\n",
    "while(i<=n):\n",
    "    sum+=i\n",
    "    i+=1\n",
    "print(\"The sum of first \",n,\" numbers is \",sum)"
   ]
  },
  {
   "cell_type": "code",
   "execution_count": 18,
   "id": "ae0ba17f-4044-420e-b066-808dc9f47bed",
   "metadata": {},
   "outputs": [
    {
     "name": "stdin",
     "output_type": "stream",
     "text": [
      "Enter the no. till which you want sum :  10\n"
     ]
    },
    {
     "name": "stdout",
     "output_type": "stream",
     "text": [
      "The sum of first  10  even numbers is  30\n"
     ]
    }
   ],
   "source": [
    "# Print sum of all even nos. from 1 to n.\n",
    "n=int(input(\"Enter the no. till which you want sum : \"))\n",
    "i=1\n",
    "sum=0\n",
    "while(i<=n):\n",
    "    if(i%2==0):\n",
    "        sum+=i\n",
    "        # print(sum)\n",
    "    i+=1\n",
    "print(\"The sum of first \",n,\" even numbers is \",sum)\n"
   ]
  },
  {
   "cell_type": "code",
   "execution_count": 3,
   "id": "facfdd09-03e6-424e-9f4e-1bc82200bc9f",
   "metadata": {},
   "outputs": [
    {
     "data": {
      "text/plain": [
       "[10, 9, 8, 7, 6, 5, 4, 3, 2]"
      ]
     },
     "execution_count": 3,
     "metadata": {},
     "output_type": "execute_result"
    }
   ],
   "source": [
    "# Range Function in Python\n",
    "# range() function allows users to generate series of numbers.\n",
    "# It is iterable as well.\n",
    "# Normal synatx : range(n) => This will provide us series of number from 0 to n.\n",
    "# It will only give us range of integers.\n",
    "# Modified syntax => range(start,end,jump) => Used by developers. \n",
    "# For normal syntax start=0,end=n(i.e. whatever input we are providing),jump for default is 1.\n",
    "# range(5)\n",
    "# list(range(5))\n",
    "# Here in above start(0) is included and end(becomes (n-1)) is excluded thus only we get [0, 1, 2, 3, 4] as O/P and jump for default is 1. \n",
    "\n",
    "# list(range(2,8,2))\n",
    "\n",
    "list(range(10,1,-1))  will give an O/P but if we write list(range(10,1,1)) then it will not give any O/P.\n",
    "\n"
   ]
  },
  {
   "cell_type": "code",
   "execution_count": null,
   "id": "6fbf3eb4-2b12-4a04-b9c7-c417eec969ca",
   "metadata": {},
   "outputs": [],
   "source": [
    "# For loop\n",
    "# Iterator,Iterable & Iteration\n",
    "# Iterator is a variable which is changing value every time\n",
    "# Iterator will iterate in an iterable.\n",
    "# And the whole process is called Iteration.\n",
    "# For loop\n",
    "# Syntax : for iterator in iterable :\n",
    "            # (indentation)body.\n",
    "\n",
    "\n"
   ]
  },
  {
   "cell_type": "code",
   "execution_count": 36,
   "id": "b6775a62-31af-4c0f-a16f-f1fd0dfb28fb",
   "metadata": {},
   "outputs": [
    {
     "name": "stdin",
     "output_type": "stream",
     "text": [
      "Enter a number :  4\n"
     ]
    },
    {
     "name": "stdout",
     "output_type": "stream",
     "text": [
      "4  X  1  =  4\n",
      "4  X  2  =  8\n",
      "4  X  3  =  12\n",
      "4  X  4  =  16\n",
      "4  X  5  =  20\n",
      "4  X  6  =  24\n",
      "4  X  7  =  28\n",
      "4  X  8  =  32\n",
      "4  X  9  =  36\n",
      "4  X  10  =  40\n"
     ]
    }
   ],
   "source": [
    "# For loop program examples \n",
    "# 1.Printing series of numbers\n",
    "# n=int(input(\"Enter a number : \"))\n",
    "# for i in range(1,n+1):\n",
    "#     print(i)\n",
    "# 2.Printing multiplication tables\n",
    "# n=int(input(\"Enter a number : \"))\n",
    "# for i in range(1,11):\n",
    "#     print(n,\" X \",i,\" = \",n*i)"
   ]
  },
  {
   "cell_type": "code",
   "execution_count": 4,
   "id": "1aa8f1ca-0b2f-4795-af8f-291a75905222",
   "metadata": {},
   "outputs": [],
   "source": [
    "# Print Pattern Questions :\n",
    "# For solving any kind of pattern problem we need to keep in mind :\n",
    "# 1.See and write the no. of rows and no. of columns to be printed.\n",
    "# 2.Firstly print the first row of the pattern and try to understand what is happening again and again\n",
    "#   is it increment or decrement or same.\n",
    "\n",
    "    \n"
   ]
  },
  {
   "cell_type": "code",
   "execution_count": 1,
   "id": "4e2db744-af68-4004-ba8c-3a677b416e08",
   "metadata": {},
   "outputs": [
    {
     "name": "stdout",
     "output_type": "stream",
     "text": [
      "# # # # \n",
      "# # # # \n",
      "# # # # \n",
      "# # # # \n"
     ]
    }
   ],
   "source": [
    "# Question 1\n",
    "#Now running same code with Nested for loop :\n",
    "for i in range(4):\n",
    "    for j in range(4):\n",
    "        print(\"#\",end=\" \")\n",
    "    print()\n"
   ]
  },
  {
   "cell_type": "code",
   "execution_count": 5,
   "id": "82809e81-f6fe-45fe-84f3-399af4d597c3",
   "metadata": {},
   "outputs": [
    {
     "name": "stdout",
     "output_type": "stream",
     "text": [
      "Enter number of rows : 9\n",
      "# \n",
      "# # \n",
      "# # # \n",
      "# # # # \n",
      "# # # # # \n",
      "# # # # # # \n",
      "# # # # # # # \n",
      "# # # # # # # # \n",
      "# # # # # # # # # \n"
     ]
    }
   ],
   "source": [
    "# Question 2\n",
    "n=int(input(\"Enter number of rows : \"))\n",
    "for i in range(1,n+1):\n",
    "      for j in range(i):\n",
    "            print(\"#\",end=\" \")\n",
    "      print()"
   ]
  },
  {
   "cell_type": "code",
   "execution_count": 13,
   "id": "633d2843-7f22-4dcd-aae1-5832a9fd95f7",
   "metadata": {},
   "outputs": [
    {
     "name": "stdout",
     "output_type": "stream",
     "text": [
      "0 1 2 3 4 "
     ]
    }
   ],
   "source": [
    "# Break Continue and Pass statements.\n",
    "# These statements are used to alter the flow of the program\n",
    "\n",
    "# Break :Breaks the flow of program once this condition is hit\n",
    "# e.g. : \n",
    "\n",
    "for i in range(11):\n",
    "    if i==5:\n",
    "        # //As,here we have written here break then at this particular point i.e. when i==5 it will stop executing for the rest.\n",
    "        break \n",
    "    print(i,end=\" \")\n",
    "    \n",
    "# => O/P : 0 1 2 3 4 \n",
    "\n",
    "# Continue : It skips that particular iteration\n",
    "# e.g. : \n",
    "# for i in range(11):\n",
    "#     if i==5:\n",
    "        # //As,here we have written here continue then at this particular point i.e. when i==5 it will not print but for the rest it will print i.\n",
    "        # continue \n",
    "    # print(i,end=\" \")\n",
    "# => O/P : 0 1 2 3 4 6 7 8 9 10 \n",
    "# Pass : To avoid the syntax error\n",
    "# e.g. : def func():\n",
    "            # pass //It will help us by keeping the function empty without error."
   ]
  }
 ],
 "metadata": {
  "kernelspec": {
   "display_name": "Python 3 (ipykernel)",
   "language": "python",
   "name": "python3"
  },
  "language_info": {
   "codemirror_mode": {
    "name": "ipython",
    "version": 3
   },
   "file_extension": ".py",
   "mimetype": "text/x-python",
   "name": "python",
   "nbconvert_exporter": "python",
   "pygments_lexer": "ipython3",
   "version": "3.10.9"
  }
 },
 "nbformat": 4,
 "nbformat_minor": 5
}
